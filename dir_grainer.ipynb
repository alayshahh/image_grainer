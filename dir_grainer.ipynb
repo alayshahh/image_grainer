{
 "cells": [
  {
   "cell_type": "code",
   "execution_count": 45,
   "metadata": {},
   "outputs": [],
   "source": [
    "from skimage.transform import resize\n",
    "import numpy as np\n",
    "from skimage.util import random_noise\n",
    "from PIL import Image\n",
    "\n",
    "def gen_noise_mask(rows, cols):\n",
    "    val = 0.03  # random.uniform(0.036, 0.107)\n",
    "    # Full resolution\n",
    "    noise_im1 = np.zeros((rows, cols))\n",
    "    noise_im1 = random_noise(noise_im1, mode='gaussian', var=val ** 2, clip=False)\n",
    "\n",
    "    # Half resolution\n",
    "    noise_im2 = np.zeros((rows // 2, cols // 2))\n",
    "    noise_im2 = random_noise(noise_im2, mode='gaussian', var=(val * 2) ** 2, clip=False)  # Use val*2 (needs tuning...)\n",
    "    noise_im2 = resize(noise_im2, (rows, cols))  # Upscale to original image size\n",
    "\n",
    "    # Quarter resolution\n",
    "    noise_im3 = np.zeros((rows // 4, cols // 4))\n",
    "    noise_im3 = random_noise(noise_im3, mode='gaussian', var=(val * 4) ** 2, clip=False)  # Use val*4 (needs tuning...)\n",
    "    noise_im3 = resize(noise_im3, (rows, cols))  # What is the interpolation method?\n",
    "\n",
    "    noise_im = noise_im1 + noise_im2  + noise_im3  # Sum the noise in multiple resolutions (the mean of noise_im is around zero).\n",
    "    return noise_im\n",
    "\n",
    "\n",
    "def noiseGenerator(im):\n",
    "    im_arr = np.asarray(im)\n",
    "\n",
    "    rows, cols, color_channels = im_arr.shape\n",
    "\n",
    "    rgba_array = np.zeros((rows, cols, color_channels ), 'float64')\n",
    "    for channel in range(color_channels):\n",
    "        rgba_array[..., channel] += gen_noise_mask(rows, cols)\n",
    "    noisy_img = im_arr / 255 + rgba_array  # Add noise_im to the input image.\n",
    "    noisy_img = np.round((255 * noisy_img)).clip(0, 255).astype(np.uint8)\n",
    "    return Image.fromarray(noisy_img)"
   ]
  },
  {
   "cell_type": "code",
   "execution_count": null,
   "metadata": {},
   "outputs": [],
   "source": [
    "import os\n",
    "path = ''\n",
    "new_path=''\n",
    "\n",
    "\n",
    "directory = os.fsencode(path)\n",
    "for file in os.listdir(directory):\n",
    "     filename = os.fsdecode(file)\n",
    "     path_to_file = f'{path}{filename}'\n",
    "     path_to_new_file = f'{new_path}{filename}'\n",
    "     filename_lower = filename.lower()\n",
    "     if filename_lower.endswith(\".jpeg\") or filename_lower.endswith(\".png\") or filename_lower.endswith(\".jpg\"): \n",
    "          grainy = noiseGenerator(Image.open(fp=path_to_file))\n",
    "          grainy.save(fp=path_to_new_file)\n",
    "          \n",
    "\n"
   ]
  }
 ],
 "metadata": {
  "kernelspec": {
   "display_name": "grainerVenv",
   "language": "python",
   "name": "python3"
  },
  "language_info": {
   "codemirror_mode": {
    "name": "ipython",
    "version": 3
   },
   "file_extension": ".py",
   "mimetype": "text/x-python",
   "name": "python",
   "nbconvert_exporter": "python",
   "pygments_lexer": "ipython3",
   "version": "3.12.4"
  }
 },
 "nbformat": 4,
 "nbformat_minor": 2
}
