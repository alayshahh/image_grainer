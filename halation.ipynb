{
 "cells": [
  {
   "cell_type": "code",
   "execution_count": 2,
   "id": "8d6f5ddc",
   "metadata": {},
   "outputs": [],
   "source": [
    "from PIL import Image, ImageFilter, ImageEnhance\n",
    "\n",
    "def create_halation(image_path, output_path, blur_radius=10, brightness_threshold=150, tint_color=(255, 100, 100)):\n",
    "    \"\"\"\n",
    "    Creates a halation effect on an image.\n",
    "\n",
    "    Args:\n",
    "        image_path (str): Path to the input image.\n",
    "        output_path (str): Path to save the output image with halation.\n",
    "        blur_radius (int): The radius of the Gaussian blur applied to the bright areas.\n",
    "        brightness_threshold (int): Pixels brighter than this value will contribute to halation.\n",
    "        tint_color (tuple): RGB tuple for the color tint of the halation (e.g., red for filmic look).\n",
    "    \"\"\"\n",
    "    try:\n",
    "        original_image = Image.open(image_path).convert(\"RGB\")\n",
    "    except FileNotFoundError:\n",
    "        print(f\"Error: Image not found at {image_path}\")\n",
    "        return\n",
    "\n",
    "    # Create a mask for bright areas\n",
    "    bright_mask = Image.new(\"L\", original_image.size, 0)\n",
    "    pixels = original_image.load()\n",
    "    mask_pixels = bright_mask.load()\n",
    "\n",
    "    for y in range(original_image.height):\n",
    "        for x in range(original_image.width):\n",
    "            r, g, b = pixels[x, y]\n",
    "            brightness = (r + g + b) // 3  # Simple brightness calculation\n",
    "            if brightness > brightness_threshold:\n",
    "                mask_pixels[x, y] = 255  # Mark as bright\n",
    "\n",
    "    # Apply Gaussian blur to the mask\n",
    "    blurred_mask = bright_mask.filter(ImageFilter.GaussianBlur(radius=blur_radius))\n",
    "\n",
    "    # Create a colored layer for halation\n",
    "    halation_layer = Image.new(\"RGB\", original_image.size, tint_color)\n",
    "    \n",
    "    # Blend the halation layer using the blurred mask\n",
    "    # The 'alpha_composite' function requires images with an alpha channel.\n",
    "    # So, we convert the halation layer to RGBA and use the blurred mask as the alpha channel.\n",
    "    halation_layer_with_alpha = Image.new(\"RGBA\", original_image.size)\n",
    "    halation_layer_pixels = halation_layer.load()\n",
    "    halation_layer_with_alpha_pixels = halation_layer_with_alpha.load()\n",
    "    blurred_mask_pixels = blurred_mask.load()\n",
    "\n",
    "    for y in range(original_image.height):\n",
    "        for x in range(original_image.width):\n",
    "            r, g, b = halation_layer_pixels[x, y]\n",
    "            alpha = blurred_mask_pixels[x, y]\n",
    "            halation_layer_with_alpha_pixels[x, y] = (r, g, b, alpha)\n",
    "\n",
    "    # Blend the halation layer with the original image\n",
    "    final_image = Image.alpha_composite(original_image.convert(\"RGBA\"), halation_layer_with_alpha)\n",
    "    return final_image"
   ]
  },
  {
   "cell_type": "code",
   "execution_count": null,
   "id": "0b27d6c8",
   "metadata": {},
   "outputs": [],
   "source": [
    "path=\"/Users/alayshah/Desktop/DSCF2897.JPG\"\n",
    "create_halation(image_path=path, output_path=\"\")"
   ]
  }
 ],
 "metadata": {
  "kernelspec": {
   "display_name": "grainerVenv",
   "language": "python",
   "name": "python3"
  },
  "language_info": {
   "codemirror_mode": {
    "name": "ipython",
    "version": 3
   },
   "file_extension": ".py",
   "mimetype": "text/x-python",
   "name": "python",
   "nbconvert_exporter": "python",
   "pygments_lexer": "ipython3",
   "version": "3.12.4"
  }
 },
 "nbformat": 4,
 "nbformat_minor": 5
}
